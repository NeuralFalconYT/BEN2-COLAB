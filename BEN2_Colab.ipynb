{
  "nbformat": 4,
  "nbformat_minor": 0,
  "metadata": {
    "colab": {
      "provenance": [],
      "gpuType": "T4"
    },
    "kernelspec": {
      "name": "python3",
      "display_name": "Python 3"
    },
    "language_info": {
      "name": "python"
    },
    "accelerator": "GPU"
  },
  "cells": [
    {
      "cell_type": "markdown",
      "source": [
        "\n",
        "[BEN2 Huggingface Model Page](https://huggingface.co/PramaLLC/BEN2)"
      ],
      "metadata": {
        "id": "jeNiosaFkTdO"
      }
    },
    {
      "cell_type": "code",
      "execution_count": 1,
      "metadata": {
        "cellView": "form",
        "id": "gNsc3JBjkSY1"
      },
      "outputs": [],
      "source": [
        "#@title Install BEN2\n",
        "%cd /content/\n",
        "!git clone https://github.com/PramaLLC/BEN2.git\n",
        "%cd /content/BEN2\n",
        "!wget https://huggingface.co/PramaLLC/BEN2/resolve/main/BEN2_Base.pth\n",
        "!wget https://raw.githubusercontent.com/NeuralFalconYT/BEN2-COLAB/refs/heads/main/app.py\n",
        "!pip install gradio>=5.9.1\n",
        "!pip install click\n",
        "from IPython.display import clear_output\n",
        "clear_output()"
      ]
    },
    {
      "cell_type": "code",
      "source": [
        "%cd /content/BEN2\n",
        "!python app.py --share --debug"
      ],
      "metadata": {
        "id": "t_3IhJhekX6F"
      },
      "execution_count": null,
      "outputs": []
    }
  ]
}